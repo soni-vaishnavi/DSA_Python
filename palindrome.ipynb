{
 "cells": [
  {
   "cell_type": "code",
   "execution_count": 15,
   "id": "0f41addb",
   "metadata": {},
   "outputs": [
    {
     "name": "stdout",
     "output_type": "stream",
     "text": [
      "not a palindrome\n"
     ]
    }
   ],
   "source": [
    "## strings palindrome\n",
    "\n",
    "text = \"madame\"\n",
    "\n",
    "flag = True\n",
    "length = len(text)\n",
    "j=length-1\n",
    "for i in range(length//2):\n",
    "    \n",
    "        if text[i]==text[j]:\n",
    "            i+=1\n",
    "            j-=1\n",
    "            pass\n",
    "        else:\n",
    "            flag = False\n",
    "            break\n",
    "\n",
    "if flag == False:\n",
    "    print(\"not a palindrome\")\n",
    "else:\n",
    "    print(\"palindrome\")"
   ]
  },
  {
   "cell_type": "code",
   "execution_count": 13,
   "id": "699ad305",
   "metadata": {},
   "outputs": [
    {
     "name": "stdout",
     "output_type": "stream",
     "text": [
      "palindrome\n"
     ]
    }
   ],
   "source": [
    "text = \"madam\"\n",
    "\n",
    "flag = True\n",
    "\n",
    "length = len(text)\n",
    "i = 0\n",
    "j = length-1\n",
    "while i <j:\n",
    "    if text[i]!= text[j]:\n",
    "        flag = False\n",
    "        break\n",
    "    else:\n",
    "        i+=1\n",
    "        j-=1\n",
    "    \n",
    "\n",
    "        \n",
    "if flag == False:\n",
    "    print(\"not a palindrome\")\n",
    "else:\n",
    "    print(\"palindrome\")\n"
   ]
  },
  {
   "cell_type": "markdown",
   "id": "1ac6be6d",
   "metadata": {},
   "source": [
    "using recursion"
   ]
  },
  {
   "cell_type": "code",
   "execution_count": null,
   "id": "87243c9d",
   "metadata": {},
   "outputs": [
    {
     "name": "stdout",
     "output_type": "stream",
     "text": [
      "not a palindrome\n"
     ]
    }
   ],
   "source": [
    "# MY WAY\n",
    "def palin(text, left, right):\n",
    "    \n",
    "    if text[left]!= text[right]:\n",
    "        print(\"not a palindrome\")\n",
    "    else:\n",
    "        if left>right:\n",
    "            print(\"palindrome\")\n",
    "            exit\n",
    "        else:\n",
    "         palin(text, left+1, right-1)\n",
    "\n",
    "palin(\"madaem\", 0 ,5)\n"
   ]
  },
  {
   "cell_type": "code",
   "execution_count": 22,
   "id": "8e576b6b",
   "metadata": {},
   "outputs": [
    {
     "name": "stdout",
     "output_type": "stream",
     "text": [
      "not a palindrome\n"
     ]
    },
    {
     "data": {
      "text/plain": [
       "False"
      ]
     },
     "execution_count": 22,
     "metadata": {},
     "output_type": "execute_result"
    }
   ],
   "source": [
    "def palin(text, left, right):\n",
    " if left>= right:\n",
    "    print(\"its a palindrome\")\n",
    "    return True\n",
    " if text[left]!= text[right]:\n",
    "    print(\"not a palindrome\")\n",
    "    return False\n",
    " return palin(text, left+1, right-1)\n",
    "\n",
    "palin(\"madaem\", 0, 5)"
   ]
  },
  {
   "cell_type": "markdown",
   "id": "7d71f88f",
   "metadata": {},
   "source": [
    "## TC = O(N/2) ~ O(N)"
   ]
  },
  {
   "cell_type": "code",
   "execution_count": null,
   "id": "bd9b1486",
   "metadata": {},
   "outputs": [],
   "source": []
  }
 ],
 "metadata": {
  "kernelspec": {
   "display_name": "base",
   "language": "python",
   "name": "python3"
  },
  "language_info": {
   "codemirror_mode": {
    "name": "ipython",
    "version": 3
   },
   "file_extension": ".py",
   "mimetype": "text/x-python",
   "name": "python",
   "nbconvert_exporter": "python",
   "pygments_lexer": "ipython3",
   "version": "3.12.4"
  }
 },
 "nbformat": 4,
 "nbformat_minor": 5
}
