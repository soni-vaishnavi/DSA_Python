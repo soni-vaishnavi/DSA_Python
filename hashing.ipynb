{
 "cells": [
  {
   "cell_type": "markdown",
   "id": "0838489d",
   "metadata": {},
   "source": [
    "# Hashing\n"
   ]
  },
  {
   "cell_type": "markdown",
   "id": "e21d542e",
   "metadata": {},
   "source": [
    "#### we are directly accessing hashing here using list. Actual hashing occurs when we use hash dictionaries this will help to use functions like get"
   ]
  },
  {
   "cell_type": "code",
   "execution_count": 10,
   "id": "8f844a42",
   "metadata": {},
   "outputs": [
    {
     "name": "stdout",
     "output_type": "stream",
     "text": [
      "33\n",
      "so 3 occured : 2\n",
      "so 5 occured : 3\n",
      "so 4 occured : 4\n",
      "so 1 occured : 1\n",
      "so 7 occured : 2\n"
     ]
    }
   ],
   "source": [
    "# integer hashing\n",
    "l1= [1,3,4,5,6,5,4,3,4,5,32,4,7,9,7,8]\n",
    "l2= [3,5,4,1,7]\n",
    "\n",
    "hash_list = [0]*(max(l1)+1)\n",
    "print(len(hash_list))\n",
    "for i in l1 :\n",
    "    hash_list[i] +=1\n",
    "\n",
    "for j in l2:\n",
    "    value = hash_list[j]\n",
    "    print(f\"so {j} occured : {value}\")\n",
    "\n",
    "\n"
   ]
  },
  {
   "cell_type": "markdown",
   "id": "473b9cb8",
   "metadata": {},
   "source": [
    "character hashing"
   ]
  },
  {
   "cell_type": "code",
   "execution_count": null,
   "metadata": {},
   "outputs": [],
   "source": []
  },
  {
   "cell_type": "code",
   "execution_count": null,
   "id": "e75f7d13",
   "metadata": {},
   "outputs": [],
   "source": []
  },
  {
   "cell_type": "code",
   "execution_count": null,
   "metadata": {},
   "outputs": [],
   "source": []
  },
  {
   "cell_type": "code",
   "execution_count": null,
   "metadata": {},
   "outputs": [],
   "source": []
  },
  {
   "cell_type": "code",
   "execution_count": 1,
   "id": "d7812ccf",
   "metadata": {},
   "outputs": [],
   "source": [
    "##find the numbr of occurences of charactres in a list into  a string"
   ]
  },
  {
   "cell_type": "code",
   "execution_count": 2,
   "id": "594445ec",
   "metadata": {},
   "outputs": [],
   "source": [
    "s = \"aadfetsafadaefc\""
   ]
  },
  {
   "cell_type": "code",
   "execution_count": 3,
   "id": "4834d47e",
   "metadata": {},
   "outputs": [],
   "source": [
    "q = ['a',  'f', 'd', 'e']"
   ]
  },
  {
   "cell_type": "code",
   "execution_count": null,
   "id": "abd523d5",
   "metadata": {},
   "outputs": [],
   "source": []
  }
 ],
 "metadata": {
  "kernelspec": {
   "display_name": "base",
   "language": "python",
   "name": "python3"
  },
  "language_info": {
   "codemirror_mode": {
    "name": "ipython",
    "version": 3
   },
   "file_extension": ".py",
   "mimetype": "text/x-python",
   "name": "python",
   "nbconvert_exporter": "python",
   "pygments_lexer": "ipython3",
   "version": "3.12.4"
  }
 },
 "nbformat": 4,
 "nbformat_minor": 5
}
