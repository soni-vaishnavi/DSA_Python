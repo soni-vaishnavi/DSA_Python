{
 "cells": [
  {
   "cell_type": "code",
   "execution_count": 1,
   "id": "dd652800",
   "metadata": {},
   "outputs": [
    {
     "name": "stdout",
     "output_type": "stream",
     "text": [
      "hello \n"
     ]
    }
   ],
   "source": [
    "print(\"hello \")"
   ]
  },
  {
   "cell_type": "markdown",
   "id": "1b1b3522",
   "metadata": {},
   "source": [
    "## Print all the factors of a number"
   ]
  },
  {
   "cell_type": "code",
   "execution_count": null,
   "id": "9329f595",
   "metadata": {},
   "outputs": [
    {
     "name": "stdout",
     "output_type": "stream",
     "text": [
      "[1, 2, 5, 10]\n"
     ]
    }
   ],
   "source": [
    "#my try - correct \n",
    "list1 = []\n",
    "num= int(input(\"Enter the number\"))\n",
    "for i in range(1, num+1):\n",
    "    if num%i ==0:\n",
    "        list1.append(i)\n",
    "    else:\n",
    "        i+=1\n",
    "   \n",
    "print(list1)\n",
    "\n",
    "# T.C = O(N)"
   ]
  },
  {
   "cell_type": "code",
   "execution_count": null,
   "id": "3c957e48",
   "metadata": {},
   "outputs": [
    {
     "name": "stdout",
     "output_type": "stream",
     "text": [
      "[1, 2, 5]\n"
     ]
    }
   ],
   "source": [
    "#Better solution\n",
    "list1 = []\n",
    "num= int(input(\"Enter the number\"))\n",
    "for i in range(1, (num+2)//2):  #to run till half of n and num+2 means loop will run till exactly half!\n",
    "    if num%i ==0:\n",
    "        list1.append(i)\n",
    "    else:\n",
    "        i+=1\n",
    "   \n",
    "print(list1)\n",
    "\n",
    "# T.C = O(N/2) ~ O(N)\n"
   ]
  },
  {
   "cell_type": "code",
   "execution_count": 15,
   "id": "f67c74cc",
   "metadata": {},
   "outputs": [
    {
     "name": "stdout",
     "output_type": "stream",
     "text": [
      "[1, 2, 3, 4, 6, 9, 12, 18, 36]\n"
     ]
    }
   ],
   "source": [
    "# optimal solution\n",
    "num= int(input(\"Enter the number\"))\n",
    "\n",
    "result = []\n",
    "root = int( num**(0.5))\n",
    "for i in range(1,root +1):\n",
    "    if  num % i ==0:\n",
    "        result.append(i)\n",
    "        if num//i != i :\n",
    "         result.append(num//i)\n",
    "\n",
    "result.sort()\n",
    "print(result)\n",
    "    \n",
    "\n",
    "    # T.C. = O(rootN + NlogN(of sorting))\n",
    "      "
   ]
  },
  {
   "cell_type": "markdown",
   "id": "0c836bbb",
   "metadata": {},
   "source": [
    "## storing frequency into dictionary"
   ]
  },
  {
   "cell_type": "code",
   "execution_count": null,
   "id": "29b979a4",
   "metadata": {},
   "outputs": [
    {
     "name": "stdout",
     "output_type": "stream",
     "text": [
      "{1: 1, 3: 2, 5: 3, 6: 2, 8: 1, 4: 1}\n"
     ]
    }
   ],
   "source": [
    "val = [1,3,5,6,8,6,5,4,5,3]\n",
    "\n",
    "my_dict = dict()\n",
    "for i in val:\n",
    "    if i in my_dict:\n",
    "        my_dict[i] +=1\n",
    "    else:\n",
    "        my_dict[i] =1\n",
    "print(my_dict)\n",
    "\n",
    "# T.C. = "
   ]
  },
  {
   "cell_type": "code",
   "execution_count": null,
   "id": "2e2efe2e",
   "metadata": {},
   "outputs": [],
   "source": []
  }
 ],
 "metadata": {
  "kernelspec": {
   "display_name": "base",
   "language": "python",
   "name": "python3"
  },
  "language_info": {
   "codemirror_mode": {
    "name": "ipython",
    "version": 3
   },
   "file_extension": ".py",
   "mimetype": "text/x-python",
   "name": "python",
   "nbconvert_exporter": "python",
   "pygments_lexer": "ipython3",
   "version": "3.12.4"
  }
 },
 "nbformat": 4,
 "nbformat_minor": 5
}
