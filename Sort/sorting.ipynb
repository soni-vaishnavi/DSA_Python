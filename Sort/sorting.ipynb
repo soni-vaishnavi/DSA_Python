{
 "cells": [
  {
   "cell_type": "markdown",
   "id": "37e89aae",
   "metadata": {},
   "source": [
    "# SELECTION SORT"
   ]
  },
  {
   "cell_type": "markdown",
   "id": "75ae9e60",
   "metadata": {},
   "source": [
    "### Descending Order"
   ]
  },
  {
   "cell_type": "code",
   "execution_count": 19,
   "id": "66dfc709",
   "metadata": {},
   "outputs": [
    {
     "name": "stdout",
     "output_type": "stream",
     "text": [
      "[8, 7, 6, 5, 4, 1, 0]\n"
     ]
    }
   ],
   "source": [
    "array = [4,5,0,7,6,8,1]\n",
    "\n",
    "n = len(array)\n",
    "temp= len(array)\n",
    "for i in range(n-1,-1,-1):\n",
    "    temp = i\n",
    "    for j in range(i-1,-1,-1):\n",
    "        \n",
    "        if array[j]<= array[temp]:\n",
    "            temp = j\n",
    "            \n",
    "        else:\n",
    "            j-=1\n",
    "    array[i],array[temp]= array[temp], array[i]\n",
    "\n",
    "print(array)"
   ]
  },
  {
   "cell_type": "markdown",
   "id": "cfd3326c",
   "metadata": {},
   "source": [
    "### Ascending Order"
   ]
  },
  {
   "cell_type": "code",
   "execution_count": 10,
   "id": "9b428aea",
   "metadata": {},
   "outputs": [
    {
     "name": "stdout",
     "output_type": "stream",
     "text": [
      "[0, 1, 4, 5, 6, 7, 8]\n"
     ]
    }
   ],
   "source": [
    "array = [4,5,0,7,6,8,1]\n",
    "i=0\n",
    "n = len(array)\n",
    "temp= 0\n",
    "for i in range(0,n):\n",
    "    temp = i\n",
    "    for j in range(i+1,n):\n",
    "        \n",
    "        if array[j]<= array[temp]:\n",
    "            temp = j\n",
    "            \n",
    "        else:\n",
    "            j+=1\n",
    "    array[i],array[temp]= array[temp], array[i]\n",
    "\n",
    "print(array)"
   ]
  },
  {
   "cell_type": "markdown",
   "id": "276b099d",
   "metadata": {},
   "source": [
    "# Bubble Sort"
   ]
  },
  {
   "cell_type": "code",
   "execution_count": null,
   "id": "5d255374",
   "metadata": {},
   "outputs": [],
   "source": [
    "def bubble_sort(arr):\n",
    "    n = len(arr)\n",
    "    for i in range(n):\n",
    "        swapped = False\n",
    "        for j in range(0, n - i - 1):\n",
    "            if arr[j] > arr[j + 1]:\n",
    "                arr[j], arr[j + 1] = arr[j + 1], arr[j]\n",
    "                swapped = True\n",
    "        if not swapped:\n",
    "            break\n",
    "    return arr\n",
    "\n",
    "numbers = [64, 34, 25, 12, 22, 11, 90]\n",
    "sorted_numbers = bubble_sort(numbers)\n",
    "print(\"Sorted array:\", sorted_numbers)\n"
   ]
  },
  {
   "cell_type": "markdown",
   "id": "936f1446",
   "metadata": {},
   "source": [
    "# INSERTION SORT"
   ]
  },
  {
   "cell_type": "code",
   "execution_count": 2,
   "id": "79397010",
   "metadata": {},
   "outputs": [
    {
     "name": "stdout",
     "output_type": "stream",
     "text": [
      "[1, 3, 4, 6, 7, 8, 22, 34, 60]\n"
     ]
    }
   ],
   "source": [
    "nums = [22,4,6,1,3,8,7,60,34]\n",
    "n= len(nums)\n",
    "for i in range(1,n):\n",
    "    key= nums[i]\n",
    "    j = i-1\n",
    "\n",
    "    while(j>=0) and (key< nums[j]):\n",
    "        nums[j+1]=nums[j]\n",
    "        j-=1\n",
    "    nums[j+1]=key\n",
    "\n",
    "print(nums)"
   ]
  },
  {
   "cell_type": "markdown",
   "id": "a8dc99fc",
   "metadata": {},
   "source": [
    "# MERGE SORT"
   ]
  },
  {
   "cell_type": "code",
   "execution_count": 8,
   "id": "0ea90e79",
   "metadata": {},
   "outputs": [
    {
     "data": {
      "text/plain": [
       "[0, 3, 4, 5, 6, 7, 8, 9]"
      ]
     },
     "execution_count": 8,
     "metadata": {},
     "output_type": "execute_result"
    }
   ],
   "source": [
    "\n",
    "\n",
    "def merge_sort(arr):\n",
    "    if(len(arr))<=1:\n",
    "        return arr\n",
    "    mid = len(arr)//2\n",
    "    left_half = arr[:mid]\n",
    "    right_half = arr[mid:]\n",
    "\n",
    "    left_half = merge_sort(left_half)\n",
    "    right_half = merge_sort(right_half)\n",
    "    #print(left_half)\n",
    "    #print(right_half)\n",
    "    return merge_array(left_half,right_half)\n",
    "\n",
    "def merge_array(left, right):\n",
    "    m = len(left)\n",
    "    n = len(right)\n",
    "    res =[]\n",
    "    i=0\n",
    "    j=0\n",
    "    while i <m and j < n:\n",
    "        if left[i]<=right[j]:\n",
    "            res.append(left[i])\n",
    "            i+=1\n",
    "        else:\n",
    "            res.append(right[j])\n",
    "            j+=1\n",
    "\n",
    "    while i <m:\n",
    "            res.append(left[i])\n",
    "            i+=1\n",
    "    while j< n:\n",
    "            res.append(right[j])\n",
    "            j+=1\n",
    "   \n",
    "    return res\n",
    "\n",
    "\n",
    "arr = [7,4,6,3,5,9,0,8]\n",
    "merge_sort(arr)\n",
    "\n"
   ]
  },
  {
   "cell_type": "code",
   "execution_count": null,
   "id": "e34420a7",
   "metadata": {},
   "outputs": [],
   "source": []
  },
  {
   "cell_type": "code",
   "execution_count": null,
   "id": "50cef5be",
   "metadata": {},
   "outputs": [],
   "source": []
  },
  {
   "cell_type": "code",
   "execution_count": null,
   "id": "4cd97409",
   "metadata": {},
   "outputs": [],
   "source": []
  },
  {
   "cell_type": "markdown",
   "id": "96a294ba",
   "metadata": {},
   "source": []
  }
 ],
 "metadata": {
  "kernelspec": {
   "display_name": "base",
   "language": "python",
   "name": "python3"
  },
  "language_info": {
   "codemirror_mode": {
    "name": "ipython",
    "version": 3
   },
   "file_extension": ".py",
   "mimetype": "text/x-python",
   "name": "python",
   "nbconvert_exporter": "python",
   "pygments_lexer": "ipython3",
   "version": "3.12.4"
  }
 },
 "nbformat": 4,
 "nbformat_minor": 5
}
