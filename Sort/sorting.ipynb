{
 "cells": [
  {
   "cell_type": "markdown",
   "id": "37e89aae",
   "metadata": {},
   "source": [
    "# SELECTION SORT"
   ]
  },
  {
   "cell_type": "markdown",
   "id": "75ae9e60",
   "metadata": {},
   "source": [
    "### Descending Order"
   ]
  },
  {
   "cell_type": "code",
   "execution_count": 19,
   "id": "66dfc709",
   "metadata": {},
   "outputs": [
    {
     "name": "stdout",
     "output_type": "stream",
     "text": [
      "[8, 7, 6, 5, 4, 1, 0]\n"
     ]
    }
   ],
   "source": [
    "array = [4,5,0,7,6,8,1]\n",
    "\n",
    "n = len(array)\n",
    "temp= len(array)\n",
    "for i in range(n-1,-1,-1):\n",
    "    temp = i\n",
    "    for j in range(i-1,-1,-1):\n",
    "        \n",
    "        if array[j]<= array[temp]:\n",
    "            temp = j\n",
    "            \n",
    "        else:\n",
    "            j-=1\n",
    "    array[i],array[temp]= array[temp], array[i]\n",
    "\n",
    "print(array)"
   ]
  },
  {
   "cell_type": "markdown",
   "id": "cfd3326c",
   "metadata": {},
   "source": [
    "### Ascending Order"
   ]
  },
  {
   "cell_type": "code",
   "execution_count": 10,
   "id": "9b428aea",
   "metadata": {},
   "outputs": [
    {
     "name": "stdout",
     "output_type": "stream",
     "text": [
      "[0, 1, 4, 5, 6, 7, 8]\n"
     ]
    }
   ],
   "source": [
    "array = [4,5,0,7,6,8,1]\n",
    "i=0\n",
    "n = len(array)\n",
    "temp= 0\n",
    "for i in range(0,n):\n",
    "    temp = i\n",
    "    for j in range(i+1,n):\n",
    "        \n",
    "        if array[j]<= array[temp]:\n",
    "            temp = j\n",
    "            \n",
    "        else:\n",
    "            j+=1\n",
    "    array[i],array[temp]= array[temp], array[i]\n",
    "\n",
    "print(array)"
   ]
  },
  {
   "cell_type": "markdown",
   "id": "276b099d",
   "metadata": {},
   "source": [
    "# Bubble Sort"
   ]
  },
  {
   "cell_type": "code",
   "execution_count": null,
   "id": "5d255374",
   "metadata": {},
   "outputs": [],
   "source": [
    "def bubble_sort(arr):\n",
    "    n = len(arr)\n",
    "    for i in range(n):\n",
    "        swapped = False\n",
    "        for j in range(0, n - i - 1):\n",
    "            if arr[j] > arr[j + 1]:\n",
    "                arr[j], arr[j + 1] = arr[j + 1], arr[j]\n",
    "                swapped = True\n",
    "        if not swapped:\n",
    "            break\n",
    "    return arr\n",
    "\n",
    "numbers = [64, 34, 25, 12, 22, 11, 90]\n",
    "sorted_numbers = bubble_sort(numbers)\n",
    "print(\"Sorted array:\", sorted_numbers)\n"
   ]
  }
 ],
 "metadata": {
  "kernelspec": {
   "display_name": "base",
   "language": "python",
   "name": "python3"
  },
  "language_info": {
   "codemirror_mode": {
    "name": "ipython",
    "version": 3
   },
   "file_extension": ".py",
   "mimetype": "text/x-python",
   "name": "python",
   "nbconvert_exporter": "python",
   "pygments_lexer": "ipython3",
   "version": "3.12.4"
  }
 },
 "nbformat": 4,
 "nbformat_minor": 5
}
