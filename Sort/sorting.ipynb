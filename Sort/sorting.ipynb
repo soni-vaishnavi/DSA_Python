{
 "cells": [
  {
   "cell_type": "code",
   "execution_count": 19,
   "id": "66dfc709",
   "metadata": {},
   "outputs": [
    {
     "name": "stdout",
     "output_type": "stream",
     "text": [
      "[8, 7, 6, 5, 4, 1, 0]\n"
     ]
    }
   ],
   "source": [
    "array = [4,5,0,7,6,8,1]\n",
    "\n",
    "n = len(array)\n",
    "temp= len(array)\n",
    "for i in range(n-1,-1,-1):\n",
    "    temp = i\n",
    "    for j in range(i-1,-1,-1):\n",
    "        \n",
    "        if array[j]<= array[temp]:\n",
    "            temp = j\n",
    "            \n",
    "        else:\n",
    "            j-=1\n",
    "    array[i],array[temp]= array[temp], array[i]\n",
    "\n",
    "print(array)"
   ]
  },
  {
   "cell_type": "code",
   "execution_count": 10,
   "id": "9b428aea",
   "metadata": {},
   "outputs": [
    {
     "name": "stdout",
     "output_type": "stream",
     "text": [
      "[0, 1, 4, 5, 6, 7, 8]\n"
     ]
    }
   ],
   "source": [
    "array = [4,5,0,7,6,8,1]\n",
    "i=0\n",
    "n = len(array)\n",
    "temp= 0\n",
    "for i in range(0,n):\n",
    "    temp = i\n",
    "    for j in range(i+1,n):\n",
    "        \n",
    "        if array[j]<= array[temp]:\n",
    "            temp = j\n",
    "            \n",
    "        else:\n",
    "            j+=1\n",
    "    array[i],array[temp]= array[temp], array[i]\n",
    "\n",
    "print(array)"
   ]
  },
  {
   "cell_type": "code",
   "execution_count": null,
   "id": "5d255374",
   "metadata": {},
   "outputs": [],
   "source": []
  }
 ],
 "metadata": {
  "kernelspec": {
   "display_name": "base",
   "language": "python",
   "name": "python3"
  },
  "language_info": {
   "codemirror_mode": {
    "name": "ipython",
    "version": 3
   },
   "file_extension": ".py",
   "mimetype": "text/x-python",
   "name": "python",
   "nbconvert_exporter": "python",
   "pygments_lexer": "ipython3",
   "version": "3.12.4"
  }
 },
 "nbformat": 4,
 "nbformat_minor": 5
}
