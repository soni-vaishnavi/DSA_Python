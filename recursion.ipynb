{
 "cells": [
  {
   "cell_type": "markdown",
   "id": "e6bc1a68",
   "metadata": {},
   "source": [
    "### sum from 1 --> N"
   ]
  },
  {
   "cell_type": "code",
   "execution_count": 12,
   "id": "0521ad64",
   "metadata": {},
   "outputs": [],
   "source": [
    "def func(sum, N):\n",
    "    if N ==1:\n",
    "        \n",
    "        return 1\n",
    "    sum = N + func(sum,N-1)\n",
    "    return sum\n",
    "\n",
    "\n"
   ]
  },
  {
   "cell_type": "code",
   "execution_count": 13,
   "id": "8afa2733",
   "metadata": {},
   "outputs": [
    {
     "data": {
      "text/plain": [
       "15"
      ]
     },
     "execution_count": 13,
     "metadata": {},
     "output_type": "execute_result"
    }
   ],
   "source": [
    "func(0, 5)"
   ]
  },
  {
   "cell_type": "code",
   "execution_count": 16,
   "id": "9fb5d013",
   "metadata": {},
   "outputs": [],
   "source": [
    "# best solution of it\n",
    "\n",
    "def func(N):\n",
    "    if N==1:\n",
    "         return 1\n",
    "    return (N + func(N-1))"
   ]
  },
  {
   "cell_type": "code",
   "execution_count": 17,
   "id": "657853d4",
   "metadata": {},
   "outputs": [
    {
     "data": {
      "text/plain": [
       "15"
      ]
     },
     "execution_count": 17,
     "metadata": {},
     "output_type": "execute_result"
    }
   ],
   "source": [
    "func(5)"
   ]
  },
  {
   "cell_type": "markdown",
   "id": "ce931ae0",
   "metadata": {},
   "source": [
    "factorial"
   ]
  },
  {
   "cell_type": "code",
   "execution_count": 7,
   "id": "c7f02582",
   "metadata": {},
   "outputs": [
    {
     "data": {
      "text/plain": [
       "720"
      ]
     },
     "execution_count": 7,
     "metadata": {},
     "output_type": "execute_result"
    }
   ],
   "source": [
    "def factorial(number):\n",
    "    if number <= 1:\n",
    "        return 1\n",
    "    else:\n",
    "        return number * factorial(number-1)\n",
    "    \n",
    "factorial(6)"
   ]
  },
  {
   "cell_type": "markdown",
   "id": "98bd0caa",
   "metadata": {},
   "source": [
    "reverse array "
   ]
  },
  {
   "cell_type": "code",
   "execution_count": 15,
   "id": "e6f2d6d7",
   "metadata": {},
   "outputs": [
    {
     "name": "stdout",
     "output_type": "stream",
     "text": [
      "[8, 9, 1, 7, 6, 5, 4, 2]\n"
     ]
    }
   ],
   "source": [
    "num = [2,4,5,6,7,1,9,8]\n",
    "def rev(left, right, num):\n",
    "    if left>=right:\n",
    "        return\n",
    "    else:\n",
    "        t= 0 \n",
    "        t=num[left]\n",
    "        num[left] = num[right]\n",
    "        num[right] = t\n",
    "        left+=1\n",
    "        right-=1\n",
    "        return rev(left, right, num)\n",
    "    \n",
    "rev(0,7, num)\n",
    "print(num)\n"
   ]
  },
  {
   "cell_type": "markdown",
   "id": "b4265573",
   "metadata": {},
   "source": [
    "fibonacci\n"
   ]
  },
  {
   "cell_type": "code",
   "execution_count": 1,
   "id": "7ef0ae52",
   "metadata": {},
   "outputs": [
    {
     "name": "stdout",
     "output_type": "stream",
     "text": [
      "Fibonacci Series:\n",
      "0 1 1 2 3 5 8 13 21 34 "
     ]
    }
   ],
   "source": [
    "def fibonacci(n):\n",
    "    if n <= 0:\n",
    "        return 0\n",
    "    elif n == 1:\n",
    "        return 1\n",
    "    else:\n",
    "        return fibonacci(n - 1) + fibonacci(n - 2)\n",
    "\n",
    "# Example: Print first 10 Fibonacci numbers\n",
    "print(\"Fibonacci Series:\")\n",
    "for i in range(10):\n",
    "    print(fibonacci(i), end=\" \")\n"
   ]
  },
  {
   "cell_type": "code",
   "execution_count": null,
   "id": "ec8abb23",
   "metadata": {},
   "outputs": [],
   "source": []
  }
 ],
 "metadata": {
  "kernelspec": {
   "display_name": "base",
   "language": "python",
   "name": "python3"
  },
  "language_info": {
   "codemirror_mode": {
    "name": "ipython",
    "version": 3
   },
   "file_extension": ".py",
   "mimetype": "text/x-python",
   "name": "python",
   "nbconvert_exporter": "python",
   "pygments_lexer": "ipython3",
   "version": "3.12.4"
  }
 },
 "nbformat": 4,
 "nbformat_minor": 5
}
